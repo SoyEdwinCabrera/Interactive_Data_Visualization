{
 "cells": [
  {
   "cell_type": "code",
   "execution_count": 32,
   "id": "e5344359-e913-4a47-983b-1d796f445866",
   "metadata": {},
   "outputs": [],
   "source": [
    "# Making a basic Bokeh line graph\n",
    "\n",
    "# importing some data\n",
    "from bokeh.plotting import figure\n",
    "from bokeh.layouts import column\n",
    "from bokeh.io import output_file, show\n",
    "\n",
    "# prepare some data\n",
    "x=[3,7.5,10]\n",
    "y=[3,6,9]\n",
    "\n",
    "# Prepare the output file\n",
    "output_file(\"Exercise_1.html\")\n",
    "\n",
    "# Create a figure object\n",
    "f1=figure()\n",
    "f1.scatter(x,y, marker=\"triangle\", size=30)\n",
    "\n",
    "f2=figure()\n",
    "f2.scatter(x,y, marker=\"circle\", size=30)\n",
    "\n",
    "p = column(f1, f2)\n",
    "\n",
    "show(p)\n",
    "\n"
   ]
  },
  {
   "cell_type": "code",
   "execution_count": 26,
   "id": "18e4eb72-d1b2-4a4b-9414-9eb7a898c260",
   "metadata": {},
   "outputs": [],
   "source": [
    "\n"
   ]
  },
  {
   "cell_type": "code",
   "execution_count": null,
   "id": "370ffa2c-2453-4304-b0ae-34ad40b8a0f7",
   "metadata": {},
   "outputs": [],
   "source": []
  }
 ],
 "metadata": {
  "kernelspec": {
   "display_name": "Python 3 (ipykernel)",
   "language": "python",
   "name": "python3"
  },
  "language_info": {
   "codemirror_mode": {
    "name": "ipython",
    "version": 3
   },
   "file_extension": ".py",
   "mimetype": "text/x-python",
   "name": "python",
   "nbconvert_exporter": "python",
   "pygments_lexer": "ipython3",
   "version": "3.12.2"
  }
 },
 "nbformat": 4,
 "nbformat_minor": 5
}
