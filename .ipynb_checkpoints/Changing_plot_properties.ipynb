{
 "cells": [
  {
   "cell_type": "code",
   "execution_count": 2,
   "id": "27160495-ab7e-4615-8347-81bd74531953",
   "metadata": {},
   "outputs": [],
   "source": [
    "# Note on Loading Excel Files\n",
    "# In the next lecture, you will learn how to load Excel files in \n",
    "# Python with pandas. For this, you need pandas (which you have already installed) \n",
    "# and also two other dependencies that pandas needs for opening Excel files. \n",
    "# You can install them with pip:\n",
    "\n",
    "# pip3.9 install openpyxl (needed to load Excel .xlsx files)\n",
    "\n",
    "# pip3.9 install xlrd (needed to load Excel old .xls files)\n"
   ]
  },
  {
   "cell_type": "code",
   "execution_count": 15,
   "id": "9a652a4b-1961-4b84-8451-33a749d8eefd",
   "metadata": {},
   "outputs": [],
   "source": [
    "# You can add a title to the plot, set the figure with and height, \n",
    "# change title, etc. Below is a summary of properties wich can be added\n",
    "# to change the style of the plot:\n",
    "\n",
    "import pandas\n",
    "from bokeh.plotting import figure, output_file, show\n",
    "\n",
    "p = figure(width=500, height=400, tools='pan')\n",
    "\n",
    "p.title.text=\"Color Data\"\n",
    "p.title.text_color=\"Gray\"\n",
    "p.title.text_font=\"times\"\n",
    "p.title.text_font_style=\"bold\"\n",
    "p.xaxis.minor_tick_line_color=None\n",
    "p.yaxis.minor_tick_line_color=None\n",
    "p.xaxis.axis_label=\"Date\"\n",
    "p.yaxis.axis_label=\"Intensity\"\n",
    "\n",
    "p.line([1,2,3], [4,5,6])\n",
    "output_file(\"graph.html\")\n",
    "show(p)"
   ]
  },
  {
   "cell_type": "code",
   "execution_count": null,
   "id": "cfbd56b3-990d-4be9-a5df-db606793233e",
   "metadata": {},
   "outputs": [],
   "source": [
    " "
   ]
  }
 ],
 "metadata": {
  "kernelspec": {
   "display_name": "Python 3 (ipykernel)",
   "language": "python",
   "name": "python3"
  },
  "language_info": {
   "codemirror_mode": {
    "name": "ipython",
    "version": 3
   },
   "file_extension": ".py",
   "mimetype": "text/x-python",
   "name": "python",
   "nbconvert_exporter": "python",
   "pygments_lexer": "ipython3",
   "version": "3.12.2"
  }
 },
 "nbformat": 4,
 "nbformat_minor": 5
}
