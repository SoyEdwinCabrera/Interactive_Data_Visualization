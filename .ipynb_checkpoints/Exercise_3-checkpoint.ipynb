{
 "cells": [
  {
   "cell_type": "code",
   "execution_count": null,
   "id": "5fd4e692-943d-4939-828a-c09305d8960a",
   "metadata": {},
   "outputs": [],
   "source": [
    "# Produce a graph using the data from this Excel file: \n",
    "# https://github.com/pythonizing/data/raw/master/verlegenhuken.xlsx\n",
    "\n",
    "# Some notes:\n",
    "\n",
    "# Temperature and pressure values in the Excel file have a scale factor of 10; \n",
    "# you'll have to divide those values by 10 to get the actual observations.\n",
    "\n",
    "# And, yes, you can set your own fonts and colors, but be accurate with the rest \n",
    "# of the plot elements."
   ]
  },
  {
   "cell_type": "code",
   "execution_count": 27,
   "id": "2a86c0d4-9017-4e29-ad20-5a6b1c9a4a30",
   "metadata": {},
   "outputs": [],
   "source": [
    "# PLOTTING WEATHER DATA\n",
    "\n",
    "import pandas\n",
    "\n",
    "from bokeh.plotting import figure, output_file, show\n",
    "\n",
    "#df=pandas.read_excel(\"https://github.com/pythonizing/dxata/blob/master/verlegenhuken.xlsx\",sheet_name=0)\n",
    "df=pandas.read_excel(\"weather_data.xlsx\", sheet_name=0)\n",
    "\n",
    "df[\"Temperature\"]= df[\"Temperature\"]/10\n",
    "df[\"Presure\"] = df[\"Pressure\"]/10\n",
    "\n",
    "p = figure(width=700, height=600,tools='pan')\n",
    "\n",
    "p.title.text=\"Temperature and Air Pressure\"\n",
    "p.title.text_color=\"Gray\"\n",
    "p.title.text_font=\"arial\"\n",
    "p.title.text_font_style=\"bold\"\n",
    "p.xaxis.minor_tick_line_color=None\n",
    "p.yaxis.minor_tick_line_color=None\n",
    "p.xaxis.axis_label=\"Temperature (°C)\"\n",
    "p.yaxis.axis_label=\"Pressure (hPa)\"\n",
    "\n",
    "p.scatter(df[\"Temperature\"], df[\"Pressure\"], size=0.5, color=\"darkorange\", marker=\"circle\")\n",
    "output_file(\"Weather.html\")\n",
    "show(p)"
   ]
  }
 ],
 "metadata": {
  "kernelspec": {
   "display_name": "Python 3 (ipykernel)",
   "language": "python",
   "name": "python3"
  },
  "language_info": {
   "codemirror_mode": {
    "name": "ipython",
    "version": 3
   },
   "file_extension": ".py",
   "mimetype": "text/x-python",
   "name": "python",
   "nbconvert_exporter": "python",
   "pygments_lexer": "ipython3",
   "version": "3.12.2"
  }
 },
 "cells": [],
 "metadata": {},
 "nbformat": 4,
 "nbformat_minor": 5
}
