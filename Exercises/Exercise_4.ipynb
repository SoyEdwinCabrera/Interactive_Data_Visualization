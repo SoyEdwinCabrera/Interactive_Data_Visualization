{
 "cells": [
  {
   "cell_type": "code",
   "execution_count": 1,
   "id": "6a3c9eff-86bd-45b5-aa75-b0033ff549cd",
   "metadata": {},
   "outputs": [],
   "source": [
    "# Once you have built a basic plot, you can customize its visual attributes, \n",
    "# including changing the title color and font, adding labels for xaxis and yaxis, \n",
    "# changing the color of the axis ticks, etc. All these properties are illustrated \n",
    "# in the diagram below:"
   ]
  },
  {
   "cell_type": "code",
   "execution_count": 53,
   "id": "d8b24dfe-498c-4e07-8224-f874804cc372",
   "metadata": {},
   "outputs": [],
   "source": [
    "# Changing_Visual_Attributes\n",
    "\n",
    "# And here is the code if you want to play around with it:\n",
    "\n",
    "from bokeh.plotting import figure, output_file, show\n",
    "\n",
    "p = figure(width=500, height=400, tools = 'pan, reset')\n",
    "\n",
    "p.title.text = \"Earthquakes\"\n",
    "p.title.text_color = \"Orange\"\n",
    "p.title.text_font = \"times\"\n",
    "p.title.text_font_style = \"italic\"\n",
    "\n",
    "p.yaxis.minor_tick_line_color = \"Yellow\"\n",
    "\n",
    "p.xaxis.axis_label = \"Times\"\n",
    "p.yaxis.axis_label = \"Value\"\n",
    "\n",
    "p.scatter([1,2,3,4,5], [5,6,5,5,3], size = [i*2 for i in [8,12,14,15,20]], color=\"red\", marker=\"circle\", alpha=0.5)\n",
    "\n",
    "output_file(\"Exercise_4.html\")\n",
    "\n",
    "show(p)"
   ]
  },
  {
   "cell_type": "code",
   "execution_count": 51,
   "id": "8c473a43-56f6-4d42-bc52-c4ebdaba1dd4",
   "metadata": {
    "scrolled": true
   },
   "outputs": [
    {
     "name": "stderr",
     "output_type": "stream",
     "text": [
      "/var/folders/l6/_0b0vntx3dbcwzggfv23ks2r0000gn/T/ipykernel_15099/3145489745.py:11: UserWarning: Could not infer format, so each element will be parsed individually, falling back to `dateutil`. To ensure parsing is consistent and as-expected, please specify a format.\n",
      "  df = pandas.read_csv(\"adbe.csv\", parse_dates=[\"Date\"])\n"
     ]
    }
   ],
   "source": [
    "from bokeh.plotting import figure, output_file, show\n",
    "import pandas\n",
    "import dateutil.parser\n",
    "# date_parser = lambda x: dateutil.parser.parse(x)\n",
    "\n",
    "\n",
    "# Especifica el formato de la fecha\n",
    "date_parser = lambda x: pandas.to_datetime(x)\n",
    "\n",
    "#df=pandas.read_csv(\"'https://query1.finance.yahoo.com/v7/finance/download/ADBE?period1=1230768000&period2=1343683200&interval=1d&events=history&includeAdjustedClose=true'\", parse_dates=\"Date\")\n",
    "df = pandas.read_csv(\"adbe.csv\", parse_dates=[\"Date\"])\n",
    "\n",
    "p = figure(width=1000, height=350, x_axis_type=\"datetime\")\n",
    "\n",
    "p.line(df[\"Date\"], df[\"Close\"], color=\"RED\", alpha=0.5)\n",
    "\n",
    "output_file(\"Timeseries.html\", title=\"Gráfico de series de tiempo\", \n",
    "            mode=\"cdn\")\n",
    "\n",
    "show(p)"
   ]
  },
  {
   "cell_type": "code",
   "execution_count": null,
   "id": "a3b98378-04b5-40a4-9186-cc93232b010f",
   "metadata": {},
   "outputs": [],
   "source": []
  }
 ],
 "metadata": {
  "kernelspec": {
   "display_name": "Python 3 (ipykernel)",
   "language": "python",
   "name": "python3"
  },
  "language_info": {
   "codemirror_mode": {
    "name": "ipython",
    "version": 3
   },
   "file_extension": ".py",
   "mimetype": "text/x-python",
   "name": "python",
   "nbconvert_exporter": "python",
   "pygments_lexer": "ipython3",
   "version": "3.12.2"
  }
 },
 "nbformat": 4,
 "nbformat_minor": 5
}
