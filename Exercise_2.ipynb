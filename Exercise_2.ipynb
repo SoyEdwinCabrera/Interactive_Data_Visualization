{
 "cells": [
  {
   "cell_type": "code",
   "execution_count": 16,
   "id": "a088d48c-1de4-4782-b022-2309b7736df0",
   "metadata": {},
   "outputs": [],
   "source": [
    "\n",
    "# The following line graph shows the percentage of women who \n",
    "# have received a bachelor's degree over the years in the USA. \n",
    "# The graph was produced from the Year  and Engineering columns \n",
    "# of the CSV file provided in the following link:\n",
    "\n",
    "# https://pythonizing.github.io/data/bachelors.csv\n",
    "\n",
    "# Try to reproduce the graph using Bokeh. "
   ]
  },
  {
   "cell_type": "code",
   "execution_count": 18,
   "id": "046f7db5-a3f6-4c49-9a14-e91a8399345b",
   "metadata": {},
   "outputs": [],
   "source": [
    "# Making a Graph Line\n",
    "\n",
    "from bokeh.plotting import figure\n",
    "from bokeh.io import output_file, show\n",
    "import pandas\n",
    "\n",
    "# Prepare data\n",
    "df = pandas.read_csv(\"bachelors.csv\")\n",
    "# Also is possible obtain info from url of drver documents \n",
    "x = df[\"Year\"]\n",
    "y = df[\"Engineering\"]\n",
    "\n",
    "# Prepare output\n",
    "output_file(\"Exercise_2.html\")\n",
    "\n",
    "# Create figure\n",
    "f = figure()\n",
    "\n",
    "# Create line plot\n",
    "f.line(x,y)\n",
    "\n",
    "show(f)"
   ]
  },
  {
   "cell_type": "code",
   "execution_count": null,
   "id": "7c669936-684c-4a00-8f68-2a91cf0eb78a",
   "metadata": {},
   "outputs": [],
   "source": []
  }
 ],
 "metadata": {
  "kernelspec": {
   "display_name": "Python 3 (ipykernel)",
   "language": "python",
   "name": "python3"
  },
  "language_info": {
   "codemirror_mode": {
    "name": "ipython",
    "version": 3
   },
   "file_extension": ".py",
   "mimetype": "text/x-python",
   "name": "python",
   "nbconvert_exporter": "python",
   "pygments_lexer": "ipython3",
   "version": "3.12.2"
  }
 },
 "nbformat": 4,
 "nbformat_minor": 5
}
